{
 "cells": [
  {
   "cell_type": "markdown",
   "metadata": {},
   "source": [
    "# Time/Space Complexity - Intro to Data Structures (User Defined)\n",
    "\n",
    "### Topics to discuss today:\n",
    "\n",
    "<ul>\n",
    "    <li>Time and Space Complexity - What is it/How do we measure it</li>\n",
    "    <li>Asymptotic Analysis</li>\n",
    "    <li><strong>Data Structures</strong></li>\n",
    "</ul>\n",
    "\n",
    "### Data Structures to discuss:\n",
    "- Arrays\n",
    "- Stacks\n",
    "- Queues\n",
    "- Linked Lists\n",
    "    - Singly Linked Lists\n",
    "    - Traversing A Linked List\n",
    "    - Finding a node in a linked list\n",
    "    - Adding to a linked list\n"
   ]
  },
  {
   "cell_type": "markdown",
   "metadata": {},
   "source": [
    "## Time and Space Complexity\n",
    "\n",
    "#### What is it?\n",
    "\n",
    "Time and space complexity is the measure of how much time a given action(function) will take to solve a problem. In the same fashion, we determine how much a given data structure will need in terms of memory allocation. A problem can have multiple solutions and finding the optimal solution for the problem needs to be analyzed in time and space.\n",
    "\n",
    "#### How do we measure Time and Space Complexity?\n",
    "\n",
    "In order to measure time and space complexity we use Asymptotic analysis. The reason for this is because we need a way to measure different algorithms (functions) based on the size of their inputs in a mathmatical way. For example, we could have a function that is computed as f(n) and another that is g(n^2). All things around the function staying constant, the only thing that changes is the size of the input. Below is the chart that shows the different Asymptotic analysis formats. "
   ]
  },
  {
   "cell_type": "markdown",
   "metadata": {},
   "source": [
    "<table style=\"text-align:center;\" class=\"table table-bordered\">\n",
    "<tbody><tr>\n",
    "<td>constant</td>\n",
    "<td>−</td>\n",
    "<td>Ο(1)</td>\n",
    "</tr>\n",
    "<tr>\n",
    "<td>logarithmic</td>\n",
    "<td>−</td>\n",
    "<td>Ο(log n)</td>\n",
    "</tr>\n",
    "<tr>\n",
    "<td>linear</td>\n",
    "<td>−</td>\n",
    "<td>Ο(n)</td>\n",
    "</tr>\n",
    "<tr>\n",
    "<td>Linear Logarithmic</td>\n",
    "<td>−</td>\n",
    "<td>Ο(n log n)</td>\n",
    "</tr>\n",
    "<tr>\n",
    "<td>quadratic</td>\n",
    "<td>−</td>\n",
    "<td>Ο(n<sup>2</sup>)</td>\n",
    "</tr>\n",
    "<tr>\n",
    "<td>cubic</td>\n",
    "<td>−</td>\n",
    "<td>Ο(n<sup>3</sup>)</td>\n",
    "</tr>\n",
    "<tr>\n",
    "<td>polynomial</td>\n",
    "<td>−</td>\n",
    "<td>n<sup>Ο(1)</sup></td>\n",
    "</tr>\n",
    "<tr>\n",
    "<td>exponential</td>\n",
    "<td>−</td>\n",
    "<td>2<sup>Ο(n)</sup></td>\n",
    "</tr>\n",
    "</tbody></table>"
   ]
  },
  {
   "cell_type": "code",
   "execution_count": null,
   "metadata": {},
   "outputs": [],
   "source": [
    "# Constant O(1) #aka the function only performs 1 operation\n",
    "\n",
    "def add_num(num1, num2):\n",
    "    return num1 + num2 # 1 operation\n",
    "\n",
    "def check_num(num1, num2):\n",
    "\n",
    "    if num1 == num2: #anytime we are comparing 2 things that going to be constant\n",
    "        return num1\n",
    "\n",
    "# Logarithmic O(Log n)\n",
    "# Binary Search!!\n",
    "# breaking the list in chunks every time we are doing our checks\n",
    "\n",
    "def binary_search(array, target):\n",
    "\n",
    "    left = 0\n",
    "    right = len(array) - 1\n",
    "\n",
    "    while left <= right:\n",
    "        middle = (left + right) // 2\n",
    "        match = array[middle]\n",
    "        if match == target:\n",
    "            return middle\n",
    "        elif match > target:\n",
    "            right = middle - 1\n",
    "        else:\n",
    "            left = middle + 1\n",
    "\n",
    "# Linear O(n)\n",
    "# Most common when working with lists or any iterable\n",
    "our_array = [1, 2, 3, 4, 5] #length of our list is 5 (n) and that is the # of operations also\n",
    "\n",
    "def linear_func(array):\n",
    "\n",
    "    for num in array: #any type of for loop a linear operation\n",
    "        print(num)\n",
    "\n",
    "# A lot of built-in functions that are alo linear\n",
    "# .count() linear operation\n",
    "# max(array)\n",
    "# min(array)\n",
    "# sum(array)\n",
    "# .remove() needs to traverse string to find value to remove\n",
    "# .pop(index) #yes it needs to traverse but it also needs to shift the entire list\n",
    "\n",
    "# Linear Logarithmic O(n log n)\n",
    "\n",
    "# sorted()\n",
    "# .sort()\n",
    "# merge sort\n",
    "\n",
    "# Quadratic O(n^2) #this ones hard to get to on its one, its most common to\n",
    "# have nested for loops or nested linear operations\n",
    "\n",
    "# As soon as you nest anything linear it becmes quadratic\n",
    "\n",
    "def consecutive_ones(array, target):\n",
    "\n",
    "    for num in array: #linear operation\n",
    "        #value = array.count(num) #linear operation\n",
    "\n",
    "\n",
    "    for i in range(len(array)): #linear operation\n",
    "        for j in range(len(array)): #linear operation\n",
    "            if target == array[i] + array [j]\n",
    "\n",
    "    #given an array or arrays the first # is how many got on, the second is how many ppl got off\n",
    "\n",
    "    #[[10,0],[5,3],[3,8]]\n",
    "\n",
    "    ppl_count = 0\n",
    "            for stop in array: #linear operation\n",
    "                pple_count += stop[0] - stop[1] #indexing into a list is contant time and +-*/ is constant time\n",
    "\n",
    "    return sum([stop[0] - stop[1] for stop in array]) #linear operation\n",
    "\n",
    "\n",
    "    for i, num in enumerate(array): #linear operation (turning array into a tuple linear)\n",
    "        pass\n",
    "\n",
    "    for i in range(len(array)): #linear operation\n",
    "        pass\n",
    "\n",
    "\n",
    "# Cubic O(n^3) #this one is usually when we have 3 nested for loops\n",
    "\n",
    "array1 = [1, 2, 3, 5]\n",
    "array2 = [6, 7, 8, 9]\n",
    "array3 = [10, 11, 12, 13]\n",
    "\n",
    "def cubic_func(array1, array2, array3):\n",
    "\n",
    "    for num1 in array1: #linear operation\n",
    "        for num2 in array2: #nested linear operation\n",
    "            for num3 in array3: #nested linear operation\n",
    "                if target == num1 + num2 + num3:\n",
    "                    return [num1, num2, num3]\n",
    "\n",
    "\n",
    "# usung dictionaries are great for time complexity"
   ]
  },
  {
   "cell_type": "code",
   "execution_count": null,
   "metadata": {},
   "outputs": [],
   "source": [
    "#space complexity is how much storage/memory is allocated for our function\n",
    "\n",
    "# Constant Space O(1)\n",
    "\n",
    "def constant_space(array):\n",
    "\n",
    "    count = 0 #whenever you are storing integers this is constant space\n",
    "    max_count = 0\n",
    "\n",
    "    for num in array:\n",
    "        if num == 1:\n",
    "            count += 1\n",
    "        else:\n",
    "            max_count = max(count, max_count) #our friend max() is contant time here because its only comparing 2 #'s\n",
    "            count = 0\n",
    "\n",
    "    return max_count\n",
    "\n",
    "# Linear Space O(n)\n",
    "\n",
    "def linear_space(array):\n",
    "\n",
    "    max_list = [] #linear space [] or {} or () or set() thats typically going to be linear space\n",
    "\n",
    "    for num in array:\n",
    "        if num in array:\n",
    "            count += 1\n",
    "        else:\n",
    "            max_list.append(count)\n",
    "            count = 0\n",
    "\n",
    "    return mac(max_list)\n",
    "\n",
    "# Quadratic Space O(n^2)\n",
    "\n",
    "my_list = [0], [0,1], [0, 1, 2], [0, 1, 2, 3]] #not only is the list growing, but the elements inside the list are growing\n"
   ]
  },
  {
   "cell_type": "markdown",
   "metadata": {},
   "source": [
    "## Arrays"
   ]
  },
  {
   "cell_type": "markdown",
   "metadata": {},
   "source": [
    "In python we benefit from the dynamic array which means the block of memory will expand as needed for the given input to the array. In traditional arrays (depending on the type of operating system) we will usually store our inputs in 4 or 8 consecutive blocks of memory. Below is a diagram of how that looks under the hood:\n",
    "\n",
    "## Which in python looks like this:\n",
    "\n",
    "\n",
    "<br><img src=\"http://www.cs.emory.edu/~cheung/Courses/170/Syllabus/09/FIGS/array02x.gif\" style=\"height:300px; width:450px;\"><br>"
   ]
  },
  {
   "cell_type": "markdown",
   "metadata": {},
   "source": [
    "### Let's take a look at some of the time and space analysis of arrays"
   ]
  },
  {
   "cell_type": "code",
   "execution_count": null,
   "metadata": {},
   "outputs": [],
   "source": [
    "# indexing in array/list\n",
    "# Constant time complexity\n",
    "\n",
    "my_list = [20, 19, 5, 7, 1]\n",
    "my_val = my_list[0]\n",
    "print(my_val)\n",
    "\n",
    "#searching through an array | membership check\n",
    "\n",
    "#denoted by the \"in\" keyword\n",
    "# Linear Time Complexity\n",
    "\n",
    "if 5 in my_list:\n",
    "    print(\"Its here!\")\n",
    "\n",
    "my_dict = {\"vall\" : 20, \"val2\" : 19}\n",
    "\n",
    "if 19 in my_dic.values(): #constant time complexity\n",
    "    print(\"Its here!\")\n",
    "\n",
    "# Copying a list/array\n",
    "# Linear time O(n) complexity and Linear Space )(n)\n",
    "\n",
    "my_list_copy = my_list[:]#copying utilizes slicing [:]\n",
    "print(my_list_copy)\n",
    "\n",
    "# Adding to a list/array\n",
    "# Constant time complexity O(1) if appending\n",
    "# Linear time complexity O(n) if inserting\n",
    "\n",
    "empty_list = []\n",
    "for num in my_list:\n",
    "    empty_list.append(num*2) #constant time complexity\n",
    "\n",
    "print(empty_list)\n",
    "\n",
    "empty_list.insert(3, 5) #linear time complexity becasue it needs to traverse\n",
    "print(empty_list)\n",
    "\n",
    "# Setting a new value inside \n",
    "\n",
    "empty_list[3]\n"
   ]
  },
  {
   "cell_type": "markdown",
   "metadata": {},
   "source": [
    "## Stacks and Queues\n",
    "\n",
    "** Stacks ** as the name suggests is a data structure that allows for data to follow the Last In First Out priciple(LIFO). Think of a stack of pancakes for example. To get the first pancake you would  start with the top and go down.\n",
    "\n",
    "##### Searching through a stack will be Linear Time O(n) - Constant Space O(1)\n",
    "##### Selecting the last item will be done in Constant Time O(1) - Constant Space O(1)\n",
    "##### Adding to the stack should take Constant Time O(1) - Constant Space O(1)\n",
    "\n",
    "** Queues ** are similar but in this case follow the First In First Out principle(FIFO). Think of this as a line in a black friday sale. The first person camped out for the big screen tv is the first to get it.\n",
    "\n",
    "##### Searching through a queue will be Linear Time O(n) - Constant Space O(1)\n",
    "##### Selecting the first item will be done in Constant Time O(1) - Constant Space O(1)\n",
    "##### Adding to the queue should take Constant Time O(1) - Constant Space O(1)"
   ]
  },
  {
   "cell_type": "code",
   "execution_count": 5,
   "metadata": {},
   "outputs": [
    {
     "name": "stdout",
     "output_type": "stream",
     "text": [
      "['pancakes']\n",
      "['pancakes', 'pancake2']\n",
      "['pancakes', 'pancake2', 'pancake3']\n",
      "['pancakes', 'pancake2', 'pancake3', 'pancake4']\n"
     ]
    }
   ],
   "source": [
    "#Stacks like a stack of pancakes!\n",
    "#LIFO (last in first out)\n",
    "\n",
    "stack = ['pancakes']\n",
    "print(stack)\n",
    "stack.append('pancake2')\n",
    "print(stack)\n",
    "stack.append('pancake3')\n",
    "print(stack)\n",
    "stack.append('pancake4')\n",
    "print(stack)"
   ]
  },
  {
   "cell_type": "code",
   "execution_count": 6,
   "metadata": {},
   "outputs": [
    {
     "name": "stdout",
     "output_type": "stream",
     "text": [
      "['pancakes', 'pancake2', 'pancake3']\n",
      "['pancakes', 'pancake2']\n",
      "['pancakes']\n"
     ]
    }
   ],
   "source": [
    "stack.pop()#constant time\n",
    "print(stack)\n",
    "stack.pop()\n",
    "print(stack)\n",
    "stack.pop()\n",
    "print(stack)"
   ]
  },
  {
   "cell_type": "code",
   "execution_count": 13,
   "metadata": {},
   "outputs": [
    {
     "name": "stdout",
     "output_type": "stream",
     "text": [
      "['waffle1', 'waffle2']\n",
      "['waffle1', 'waffle2', 'waffle3']\n",
      "['waffle1', 'waffle2', 'waffle3', 'waffle4']\n"
     ]
    }
   ],
   "source": [
    "#Queue with basic python\n",
    "\n",
    "qu = ['waffle1']\n",
    "qu.append('waffle2')\n",
    "print(qu)\n",
    "qu.append('waffle3')\n",
    "print(qu)\n",
    "qu.append('waffle4')\n",
    "print(qu)"
   ]
  },
  {
   "cell_type": "code",
   "execution_count": 14,
   "metadata": {},
   "outputs": [
    {
     "name": "stdout",
     "output_type": "stream",
     "text": [
      "['waffle2', 'waffle3', 'waffle4']\n",
      "['waffle3', 'waffle4']\n",
      "['waffle4']\n"
     ]
    }
   ],
   "source": [
    "qu.pop(0)#linear time complexity, the whole list has to shift\n",
    "print(qu)\n",
    "qu.pop(0)\n",
    "print(qu)\n",
    "qu.pop(0)\n",
    "print(qu)\n"
   ]
  },
  {
   "cell_type": "code",
   "execution_count": 17,
   "metadata": {},
   "outputs": [
    {
     "name": "stdout",
     "output_type": "stream",
     "text": [
      "deque(['pancake1'])\n",
      "deque(['pancake2', 'pancake1'])\n",
      "deque(['pancake3', 'pancake2', 'pancake1'])\n",
      "deque(['pancake4', 'pancake3', 'pancake2', 'pancake1'])\n"
     ]
    }
   ],
   "source": [
    "from collections import deque\n",
    "#stack using deque\n",
    "#last in first out, first in last out\n",
    "\n",
    "stack = deque()\n",
    "#print(stack)\n",
    "\n",
    "stack.appendleft('pancake1')\n",
    "print(stack)\n",
    "stack.appendleft('pancake2')\n",
    "print(stack)\n",
    "stack.appendleft('pancake3')\n",
    "print(stack)\n",
    "stack.appendleft('pancake4')\n",
    "print(stack)"
   ]
  },
  {
   "cell_type": "code",
   "execution_count": 18,
   "metadata": {},
   "outputs": [
    {
     "name": "stdout",
     "output_type": "stream",
     "text": [
      "deque(['pancake4', 'pancake3', 'pancake2', 'pancake1'])\n",
      "deque(['pancake3', 'pancake2', 'pancake1'])\n",
      "deque(['pancake2', 'pancake1'])\n",
      "deque(['pancake1'])\n"
     ]
    }
   ],
   "source": [
    "print(stack)\n",
    "stack.popleft()\n",
    "print(stack)\n",
    "stack.popleft()\n",
    "print(stack)\n",
    "stack.popleft()\n",
    "print(stack)"
   ]
  },
  {
   "cell_type": "code",
   "execution_count": 19,
   "metadata": {},
   "outputs": [
    {
     "name": "stdout",
     "output_type": "stream",
     "text": [
      "deque(['waffle1'])\n",
      "deque(['waffle2', 'waffle1'])\n",
      "deque(['waffle3', 'waffle2', 'waffle1'])\n",
      "deque(['waffle4', 'waffle3', 'waffle2', 'waffle1'])\n"
     ]
    }
   ],
   "source": [
    "from collections import deque\n",
    "#Queue using deque\n",
    "#first in first out, last in last out\n",
    "\n",
    "qu = deque()\n",
    "qu.appendleft('waffle1')\n",
    "print(qu)\n",
    "qu.appendleft('waffle2')\n",
    "print(qu)\n",
    "qu.appendleft('waffle3')\n",
    "print(qu)\n",
    "qu.appendleft('waffle4')\n",
    "print(qu)"
   ]
  },
  {
   "cell_type": "code",
   "execution_count": 20,
   "metadata": {},
   "outputs": [
    {
     "name": "stdout",
     "output_type": "stream",
     "text": [
      "deque(['waffle4', 'waffle3', 'waffle2', 'waffle1'])\n",
      "deque(['waffle4', 'waffle3', 'waffle2'])\n",
      "deque(['waffle4', 'waffle3'])\n",
      "deque(['waffle4'])\n"
     ]
    }
   ],
   "source": [
    "print(qu)\n",
    "qu.pop()\n",
    "print(qu)\n",
    "qu.pop()\n",
    "print(qu)\n",
    "qu.pop()\n",
    "print(qu)"
   ]
  },
  {
   "cell_type": "markdown",
   "metadata": {},
   "source": [
    "# Sum of Parts Time Compelxity Exercise"
   ]
  },
  {
   "cell_type": "code",
   "execution_count": null,
   "metadata": {},
   "outputs": [],
   "source": []
  },
  {
   "cell_type": "code",
   "execution_count": null,
   "metadata": {},
   "outputs": [],
   "source": [
    "#sum of parts\n",
    "https://www.codewars.com/kata/5ce399e0047a45001c853c2b"
   ]
  },
  {
   "cell_type": "markdown",
   "metadata": {},
   "source": [
    "## Linked List (Data Structure)\n",
    "\n",
    "A linked list is created by using the node class. We create a Node object and create another class to use this node object. We pass the appropriate values thorugh the node object to point the to the next data elements.\n",
    "\n",
    "There are some advantages and disadvantages with this data structure. **Advantages** Linked Lists can save memory because they can be flexibile with memory management which saves memory. **Disadvantages** Finding or adding to the list requires traversing the entire list."
   ]
  },
  {
   "cell_type": "code",
   "execution_count": 22,
   "metadata": {},
   "outputs": [],
   "source": [
    "# Made up of 2 classes\n",
    "\n",
    "# One class being the Main LinkedList class\n",
    "    #traversal\n",
    "    #deleting\n",
    "    #inserting\n",
    "# One being the Node class\n",
    "    #actual value objext\n",
    "\n",
    "class Node():\n",
    "\n",
    "    def __init__(self, value):\n",
    "        self.value = value\n",
    "        self.next = None\n",
    "\n",
    "#LinkedList class\n",
    "\n",
    "class LinkedList():\n",
    "\n",
    "    def __init__(self):\n",
    "        self.head = None #beginning of our list\n",
    "\n",
    "\n",
    "    #et the head of our list\n",
    "    def pushOn(self, new_value):\n",
    "        new_node = Node(new_value) #this is creating our node instance object\n",
    "        new_node.next = self.head\n",
    "        self.head = new_node\n",
    "\n",
    "\n",
    "    def deleteNode(self, value):\n",
    "        current_node = self.head\n",
    "        next_node = current_node.next\n",
    "\n",
    "        #traversing our linked list until it finds the value or it reaches the end\n",
    "        while current_node.value != value and next_node.next:\n",
    "            prev_node = current_node\n",
    "            current_node = next_node\n",
    "            next_node = current_node.next\n",
    "\n",
    "        #we reached the end of our list and have not grabbed our value\n",
    "        if not next_node.next and current_node.value != value:\n",
    "            return \"Value does not exist\"\n",
    "\n",
    "        prev_node.next = next_node\n",
    "        del current_node\n",
    "\n",
    "    def insertNode(self, position, value):\n",
    "\n",
    "        new_node = Node(value) #creating our node instance object\n",
    "\n",
    "        #setting us up at the beginning of the list\n",
    "        current_node = self.head\n",
    "        next_node = current_node.next\n",
    "\n",
    "        for i in range(position -1):\n",
    "            current_node = next_node\n",
    "            next_node = current_node.next\n",
    "\n",
    "        next_node.next = current_node.next\n",
    "        current_node.next = new_node\n",
    "\n",
    "    def appendNode(self, new_value):\n",
    "\n",
    "        new_node = Node(new_value) #creating our node intance object\n",
    "\n",
    "        if self.head is None:\n",
    "            self.head = new_node\n",
    "\n",
    "        #beginning of list\n",
    "        current_node = self.head\n",
    "        \n",
    "        #traversing until the end\n",
    "        while current_node.next:\n",
    "            current_node = current_node.next\n",
    "\n",
    "        #add to the end\n",
    "        current_node.next = new_node\n",
    "\n",
    "    \n",
    "    def traverse(self):\n",
    "        current_node = self.head\n",
    "\n",
    "        #while we still have nodes/values in our list we will print and then go on to the next one\n",
    "        while current_node:\n",
    "            print(current_node.value)\n",
    "            current_node = current_node.next\n",
    "\n",
    "        print(\"end of list\")\n",
    "\n",
    "    \n",
    "\n"
   ]
  },
  {
   "cell_type": "code",
   "execution_count": 28,
   "metadata": {},
   "outputs": [],
   "source": [
    "weekdays = LinkedList()\n",
    "weekdays.pushOn('Monday')\n",
    "weekdays.appendNode('Tuesday')\n",
    "#weekdays.traverse()\n",
    "weekdays.pushOn('Sunday')\n",
    "#weekdays.traverse()\n",
    "weekdays.appendNode('Thusrday')\n",
    "weekdays.insertNode(3, 'Wednesday')"
   ]
  },
  {
   "cell_type": "code",
   "execution_count": 29,
   "metadata": {},
   "outputs": [
    {
     "data": {
      "text/plain": [
       "'Value does not exist'"
      ]
     },
     "execution_count": 29,
     "metadata": {},
     "output_type": "execute_result"
    }
   ],
   "source": [
    "weekdays.deleteNode('Wednesday')"
   ]
  },
  {
   "cell_type": "code",
   "execution_count": 26,
   "metadata": {},
   "outputs": [
    {
     "name": "stdout",
     "output_type": "stream",
     "text": [
      "Sunday\n",
      "Monday\n",
      "Tuesday\n",
      "end of list\n"
     ]
    }
   ],
   "source": [
    "weekdays.traverse()"
   ]
  },
  {
   "cell_type": "code",
   "execution_count": null,
   "metadata": {},
   "outputs": [],
   "source": []
  }
 ],
 "metadata": {
  "kernelspec": {
   "display_name": "Python 3 (ipykernel)",
   "language": "python",
   "name": "python3"
  },
  "language_info": {
   "codemirror_mode": {
    "name": "ipython",
    "version": 3
   },
   "file_extension": ".py",
   "mimetype": "text/x-python",
   "name": "python",
   "nbconvert_exporter": "python",
   "pygments_lexer": "ipython3",
   "version": "3.11.4"
  }
 },
 "nbformat": 4,
 "nbformat_minor": 4
}
